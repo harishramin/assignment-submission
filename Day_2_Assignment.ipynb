{
  "nbformat": 4,
  "nbformat_minor": 0,
  "metadata": {
    "colab": {
      "name": "Day 2 Assignment.ipynb",
      "provenance": [],
      "collapsed_sections": []
    },
    "kernelspec": {
      "name": "python3",
      "display_name": "Python 3"
    },
    "language_info": {
      "name": "python"
    }
  },
  "cells": [
    {
      "cell_type": "code",
      "execution_count": 1,
      "metadata": {
        "colab": {
          "base_uri": "https://localhost:8080/"
        },
        "id": "hCdAoEEsoR9E",
        "outputId": "3da266d0-b10e-4f6f-a941-3425bd627a49"
      },
      "outputs": [
        {
          "output_type": "stream",
          "name": "stdout",
          "text": [
            "Enter the word in lower casehello coders\n",
            "Enter the charactere\n",
            "Better luck next time\n"
          ]
        }
      ],
      "source": [
        "x = input('Enter the word in lower case')\n",
        "y = input('Enter the character')\n",
        "z = ['h', 'o','c']\n",
        "\n",
        "if y in z :\n",
        "  print('you won the lottery')\n",
        "else :\n",
        "  print('Better luck next time')"
      ]
    },
    {
      "cell_type": "code",
      "source": [
        "x = input('Enter the word in lower case')\n",
        "y = input('Enter the character')\n",
        "z = ['h', 'o','c']\n",
        "\n",
        "if y in z :\n",
        "  print('you won the lottery')\n",
        "else :\n",
        "  print('Better luck next time')"
      ],
      "metadata": {
        "colab": {
          "base_uri": "https://localhost:8080/"
        },
        "id": "nL7qCnPwpgvE",
        "outputId": "77f52efa-ec94-4343-f633-e9886eba9630"
      },
      "execution_count": 2,
      "outputs": [
        {
          "output_type": "stream",
          "name": "stdout",
          "text": [
            "Enter the word in lower case hello coders\n",
            "Enter the charactero\n",
            "you won the lottery\n"
          ]
        }
      ]
    },
    {
      "cell_type": "code",
      "source": [
        ""
      ],
      "metadata": {
        "id": "d1f1nkU_pvWL"
      },
      "execution_count": null,
      "outputs": []
    }
  ]
}