{
  "nbformat": 4,
  "nbformat_minor": 0,
  "metadata": {
    "colab": {
      "name": "Day 3 Assignment.ipynb",
      "provenance": [],
      "collapsed_sections": []
    },
    "kernelspec": {
      "name": "python3",
      "display_name": "Python 3"
    },
    "language_info": {
      "name": "python"
    }
  },
  "cells": [
    {
      "cell_type": "code",
      "execution_count": 1,
      "metadata": {
        "colab": {
          "base_uri": "https://localhost:8080/"
        },
        "id": "5Bp1CSRvmUJt",
        "outputId": "c4980013-db6e-49a6-c74a-32e9af00ab8a"
      },
      "outputs": [
        {
          "output_type": "stream",
          "name": "stdout",
          "text": [
            "{'h': 1, 'e': 2, 'l': 2, 'o': 2, ' ': 1, 'c': 1, 'd': 1, 'r': 1, 's': 1}\n",
            "e\n",
            "2\n"
          ]
        }
      ],
      "source": [
        "from collections import Counter\n",
        "a = 'hello coders'\n",
        "d = dict(Counter(a))\n",
        "print(d)\n",
        "\n",
        "print(max(d, key = d.get))\n",
        "val = d.values()\n",
        "print(max(val))"
      ]
    },
    {
      "cell_type": "code",
      "source": [
        ""
      ],
      "metadata": {
        "id": "ix3jRG5UmXjD"
      },
      "execution_count": null,
      "outputs": []
    }
  ]
}