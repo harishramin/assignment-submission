{
  "nbformat": 4,
  "nbformat_minor": 0,
  "metadata": {
    "colab": {
      "name": "Day 4 assignment.ipynb",
      "provenance": []
    },
    "kernelspec": {
      "name": "python3",
      "display_name": "Python 3"
    },
    "language_info": {
      "name": "python"
    }
  },
  "cells": [
    {
      "cell_type": "code",
      "execution_count": 1,
      "metadata": {
        "colab": {
          "base_uri": "https://localhost:8080/"
        },
        "id": "zjY8_JUe7bYd",
        "outputId": "43b47bde-5a77-4c1d-8647-4b82e1f69ce5"
      },
      "outputs": [
        {
          "output_type": "stream",
          "name": "stdout",
          "text": [
            "Enter number here : 2\n",
            "2\n"
          ]
        }
      ],
      "source": [
        "# Day 4 assignment\n",
        "n = int(input(\"Enter number here : \"))\n",
        "def factorial_iter(n):\n",
        "    product = 1\n",
        "    for i in range(n):\n",
        "        product = product * (i+1)\n",
        "    return product\n",
        "\n",
        "f = factorial_iter(n)\n",
        "print(f)"
      ]
    },
    {
      "cell_type": "code",
      "source": [
        ""
      ],
      "metadata": {
        "id": "kt3qgXlM-4mT"
      },
      "execution_count": null,
      "outputs": []
    }
  ]
}