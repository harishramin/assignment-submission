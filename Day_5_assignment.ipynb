{
  "nbformat": 4,
  "nbformat_minor": 0,
  "metadata": {
    "colab": {
      "name": "Day 5 assignment.ipynb",
      "provenance": []
    },
    "kernelspec": {
      "name": "python3",
      "display_name": "Python 3"
    },
    "language_info": {
      "name": "python"
    }
  },
  "cells": [
    {
      "cell_type": "code",
      "execution_count": 7,
      "metadata": {
        "colab": {
          "base_uri": "https://localhost:8080/"
        },
        "id": "zjY8_JUe7bYd",
        "outputId": "bdcbc3d6-568b-4759-ec5c-3fc3d42dd102"
      },
      "outputs": [
        {
          "output_type": "stream",
          "name": "stdout",
          "text": [
            "[15, 30, 45, 60, 75, 90, 105, 120, 135, 150, 165, 180, 195, 210, 225, 240, 255, 270, 285, 300, 315, 330, 345, 360, 375, 390]\n"
          ]
        }
      ],
      "source": [
        "# Day 5 assignment\n",
        "\n",
        "def fun(n):\n",
        "  return n % 3 == 0 and n % 5 == 0\n",
        "  \n",
        "li = list(range(1, 401)) # creating list from 1 to 400\n",
        "\n",
        "print (list(filter(fun, li)))"
      ]
    },
    {
      "cell_type": "code",
      "source": [
        ""
      ],
      "metadata": {
        "id": "kt3qgXlM-4mT"
      },
      "execution_count": null,
      "outputs": []
    }
  ]
}