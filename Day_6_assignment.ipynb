{
  "nbformat": 4,
  "nbformat_minor": 0,
  "metadata": {
    "colab": {
      "name": "Day 6 assignment.ipynb",
      "provenance": []
    },
    "kernelspec": {
      "name": "python3",
      "display_name": "Python 3"
    },
    "language_info": {
      "name": "python"
    }
  },
  "cells": [
    {
      "cell_type": "code",
      "execution_count": 8,
      "metadata": {
        "colab": {
          "base_uri": "https://localhost:8080/"
        },
        "id": "zjY8_JUe7bYd",
        "outputId": "53e23068-d331-4182-9c60-0fc2ca9130ca"
      },
      "outputs": [
        {
          "output_type": "stream",
          "name": "stdout",
          "text": [
            "Enter the no: 2\n",
            "Enter the no: 5\n",
            "2 5\n",
            "2\n"
          ]
        }
      ],
      "source": [
        "# Day 6 assignment\n",
        "\n",
        "def decorators(fun):\n",
        "\tdef deno(no1, no2):\n",
        "\t\tif no1 < no2 :\n",
        "\t\t\tno1, no2 = no2, no1\n",
        "\t\treturn fun(no1, no2)\n",
        "\treturn deno\n",
        "\t\n",
        "@decorators\n",
        "def div(no1, no2):\n",
        "\treturn  no1 // no2\n",
        "\n",
        "no1 =int(input(\"Enter the no: \"))\n",
        "no2 =int(input(\"Enter the no: \"))\n",
        "print(no1,no2)\n",
        "\n",
        "\n",
        "print(div(no1, no2))"
      ]
    },
    {
      "cell_type": "code",
      "source": [
        ""
      ],
      "metadata": {
        "id": "kt3qgXlM-4mT"
      },
      "execution_count": null,
      "outputs": []
    }
  ]
}