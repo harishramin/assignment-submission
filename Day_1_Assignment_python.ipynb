{
  "nbformat": 4,
  "nbformat_minor": 0,
  "metadata": {
    "colab": {
      "name": "Day 1 Assignment python.ipynb",
      "provenance": []
    },
    "kernelspec": {
      "name": "python3",
      "display_name": "Python 3"
    },
    "language_info": {
      "name": "python"
    }
  },
  "cells": [
    {
      "cell_type": "code",
      "execution_count": 1,
      "metadata": {
        "colab": {
          "base_uri": "https://localhost:8080/"
        },
        "id": "I_wNYSk70ohc",
        "outputId": "a3f3eb68-ca7c-4c7f-97c3-49c6c7e1df46"
      },
      "outputs": [
        {
          "output_type": "stream",
          "name": "stdout",
          "text": [
            "Enter the values: 20 40 60 80 100\n",
            "300\n"
          ]
        }
      ],
      "source": [
        "a = [int(i) for i in input('Enter the values: ').split()]\n",
        "print(sum(a))"
      ]
    },
    {
      "cell_type": "code",
      "source": [
        ""
      ],
      "metadata": {
        "id": "JCSPYTA81CU2"
      },
      "execution_count": null,
      "outputs": []
    }
  ]
}